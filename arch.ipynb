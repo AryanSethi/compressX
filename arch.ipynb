{
 "cells": [
  {
   "cell_type": "code",
   "execution_count": 1,
   "metadata": {},
   "outputs": [
    {
     "name": "stderr",
     "output_type": "stream",
     "text": [
      "C:\\Users\\Aryan\\Anaconda3\\lib\\site-packages\\numpy\\_distributor_init.py:32: UserWarning: loaded more than 1 DLL from .libs:\n",
      "C:\\Users\\Aryan\\Anaconda3\\lib\\site-packages\\numpy\\.libs\\libopenblas.NOIJJG62EMASZI6NYURL6JBKM4EVBGM7.gfortran-win_amd64.dll\n",
      "C:\\Users\\Aryan\\Anaconda3\\lib\\site-packages\\numpy\\.libs\\libopenblas.QVLO2T66WEPI7JZ63PS3HMOHFEY472BC.gfortran-win_amd64.dll\n",
      "  stacklevel=1)\n"
     ]
    }
   ],
   "source": [
    "import tensorflow as tf\n",
    "import numpy as np\n",
    "import cv2\n",
    "from tensorflow import keras\n",
    "from tensorflow.keras.optimizers import Adam\n",
    "from tensorflow.keras.models import Model\n",
    "from tensorflow.keras.layers import Conv2D,Input,ReLU,Activation,Concatenate,BatchNormalization,Conv2DTranspose\n",
    "import os\n",
    "from matplotlib import pyplot"
   ]
  },
  {
   "cell_type": "code",
   "execution_count": 2,
   "metadata": {},
   "outputs": [
    {
     "data": {
      "text/plain": [
       "[PhysicalDevice(name='/physical_device:GPU:0', device_type='GPU')]"
      ]
     },
     "execution_count": 2,
     "metadata": {},
     "output_type": "execute_result"
    }
   ],
   "source": [
    "tf.config.list_physical_devices('GPU')"
   ]
  },
  {
   "cell_type": "markdown",
   "metadata": {},
   "source": [
    "encoding (256 X 256 X 3) to (32 X 32 X 256)"
   ]
  },
  {
   "cell_type": "code",
   "execution_count": 17,
   "metadata": {},
   "outputs": [],
   "source": [
    "class CompressX:\n",
    "    @staticmethod\n",
    "    def encoder(im_shp,channels):\n",
    "        first = Input(shape = (im_shp,im_shp,channels))\n",
    "        d = Conv2D(64,(3,3),padding='same')(first)\n",
    "        d = ReLU()(d)\n",
    "        d = Conv2D(128,(3,3),strides=(2,2),padding='same')(d)\n",
    "        d = ReLU()(d)\n",
    "        d = Conv2D(256,(3,3),strides=(2,2),padding='same')(d)\n",
    "        d = ReLU()(d)\n",
    "        d = Conv2D(512,(3,3),strides=(2,2),padding='same')(d)\n",
    "        last = ReLU()(d)\n",
    "        \n",
    "        model = Model(first,last)\n",
    "        return model\n",
    "    \n",
    "    @staticmethod\n",
    "    def decoder(im_shp,channels):\n",
    "        first = Input(shape = (im_shp,im_shp,channels))\n",
    "        d = Conv2DTranspose(256,(3,3),strides=(2,2),padding='same')(first)\n",
    "        d = ReLU()(d)\n",
    "        d = Conv2DTranspose(128,(3,3),strides=(2,2),padding='same')(d)\n",
    "        d = ReLU()(d)\n",
    "        d = Conv2DTranspose(64,(3,3),strides=(2,2),padding='same')(d)\n",
    "        d = ReLU()(d)\n",
    "        d = Conv2DTranspose(3,(3,3),padding='same')(d)\n",
    "        last = ReLU()(d)\n",
    "        \n",
    "        \n",
    "        model = Model(first,last)\n",
    "        return model\n",
    "    \n",
    "    @staticmethod\n",
    "    def comp(encoder,decoder,im_shp,channels):\n",
    "        rgb_inp = Input(shape=(im_shp,im_shp,channels))\n",
    "        rgb_en_out = encoder(rgb_inp)\n",
    "        rgb_de_out = decoder(rgb_en_out)\n",
    "        \n",
    "        hsv_inp = Input(shape=(im_shp,im_shp,channels))\n",
    "        hsv_en_out = encoder(hsv_inp)\n",
    "        hsv_de_out = decoder(hsv_en_out)\n",
    "        \n",
    "        hsv2rgb = cv2.cvtColor(hsv_de_out, cv2.COLOR_HSV2BGR)\n",
    "        \n",
    "        model = Model([rgb_inp,hsv_inp],[rgb_de_out,hsv_de_out,hsv2rgb])\n",
    "        opt = Adam(lr=0.0002)\n",
    "        model.compile(loss=['mse','mse','mse'],optimizer=opt)\n",
    "        return model\n",
    "    \n",
    "    @staticmethod\n",
    "    def load_ds(n,step,path):\n",
    "        names = os.listdir(path)\n",
    "        strt = step*n\n",
    "        end = strt + n\n",
    "        return names[strt:end]\n",
    "    \n",
    "    @staticmethod\n",
    "    def load_rgb_samples(n,step):\n",
    "        loaded = []\n",
    "        image_names = CompressX.load_ds(n,step,'ds/rgb')\n",
    "        for image in image_names:\n",
    "            img_path = os.path.join('ds/rgb',image)\n",
    "            img = cv2.imread(img_path)\n",
    "            img = (img - 127.5)/127.5\n",
    "            loaded.append(img)\n",
    "        return loaded\n",
    "    \n",
    "    @staticmethod\n",
    "    def load_hsv_samples(n,step):\n",
    "        loaded = []\n",
    "        image_names = CompressX.load_ds(n,step,'ds/hsv')\n",
    "        for image in image_names:\n",
    "            img_path = os.path.join('ds/hsv',image)\n",
    "            img = cv2.imread(img_path)\n",
    "            loaded.append(img)\n",
    "        return loaded\n",
    "    \n",
    "    @staticmethod\n",
    "    def train(comp,EPOCHS,batch_size=60):\n",
    "        batches_per_epoch = int(13200/batch_size)\n",
    "        for epoch in EPOCHS:\n",
    "            for batch_no in batches_per_epoch:\n",
    "                hsv = CompressX.load_hsv_samples(32,batch_no)\n",
    "                rgb = CompressX.load_rgb_samples(32,batch_no)\n",
    "                l1,l2,l3 = comp.train_on_batch([rgb,hsv],[rgb,hsv,rgb])\n",
    "        "
   ]
  },
  {
   "cell_type": "code",
   "execution_count": null,
   "metadata": {},
   "outputs": [],
   "source": []
  },
  {
   "cell_type": "code",
   "execution_count": 19,
   "metadata": {},
   "outputs": [
    {
     "name": "stdout",
     "output_type": "stream",
     "text": [
      "[[[-1.         -1.         -1.        ]\n",
      "  [-1.         -1.         -1.        ]\n",
      "  [-1.         -1.         -1.        ]\n",
      "  ...\n",
      "  [-0.99215686 -0.99215686 -0.99215686]\n",
      "  [-0.99215686 -0.99215686 -0.99215686]\n",
      "  [-0.99215686 -0.99215686 -0.99215686]]\n",
      "\n",
      " [[-1.         -1.         -1.        ]\n",
      "  [-1.         -1.         -1.        ]\n",
      "  [-1.         -1.         -1.        ]\n",
      "  ...\n",
      "  [-1.         -1.         -1.        ]\n",
      "  [-1.         -1.         -1.        ]\n",
      "  [-1.         -1.         -1.        ]]\n",
      "\n",
      " [[-1.         -1.         -1.        ]\n",
      "  [-1.         -1.         -1.        ]\n",
      "  [-0.99215686 -0.99215686 -0.99215686]\n",
      "  ...\n",
      "  [-0.97647059 -0.97647059 -0.97647059]\n",
      "  [-0.97647059 -0.97647059 -0.97647059]\n",
      "  [-0.97647059 -0.97647059 -0.97647059]]\n",
      "\n",
      " ...\n",
      "\n",
      " [[ 0.18431373 -0.04313725 -0.16078431]\n",
      "  [ 0.20784314 -0.01960784 -0.1372549 ]\n",
      "  [ 0.2627451   0.03529412 -0.08235294]\n",
      "  ...\n",
      "  [ 0.21568627  0.04313725 -0.04313725]\n",
      "  [ 0.30196078  0.12941176  0.03529412]\n",
      "  [ 0.35686275  0.18431373  0.09019608]]\n",
      "\n",
      " [[ 0.16078431 -0.05882353 -0.19215686]\n",
      "  [ 0.17647059 -0.04313725 -0.17647059]\n",
      "  [ 0.22352941 -0.00392157 -0.12156863]\n",
      "  ...\n",
      "  [ 0.27058824  0.09803922  0.00392157]\n",
      "  [ 0.36470588  0.19215686  0.09803922]\n",
      "  [ 0.41176471  0.23921569  0.14509804]]\n",
      "\n",
      " [[ 0.12941176 -0.09019608 -0.22352941]\n",
      "  [ 0.14509804 -0.0745098  -0.20784314]\n",
      "  [ 0.19215686 -0.03529412 -0.15294118]\n",
      "  ...\n",
      "  [ 0.30980392  0.1372549   0.04313725]\n",
      "  [ 0.39607843  0.22352941  0.12941176]\n",
      "  [ 0.43529412  0.2627451   0.16862745]]]\n"
     ]
    },
    {
     "data": {
      "text/plain": [
       "-1"
      ]
     },
     "execution_count": 19,
     "metadata": {},
     "output_type": "execute_result"
    }
   ],
   "source": [
    "img = CompressX.load_rgb_samples(10,0)[0]\n",
    "print(img)\n",
    "cv2.imshow('dsfds',img)\n",
    "cv2.waitKey(0)\n"
   ]
  },
  {
   "cell_type": "code",
   "execution_count": null,
   "metadata": {},
   "outputs": [],
   "source": []
  }
 ],
 "metadata": {
  "kernelspec": {
   "display_name": "Python 3",
   "language": "python",
   "name": "python3"
  },
  "language_info": {
   "codemirror_mode": {
    "name": "ipython",
    "version": 3
   },
   "file_extension": ".py",
   "mimetype": "text/x-python",
   "name": "python",
   "nbconvert_exporter": "python",
   "pygments_lexer": "ipython3",
   "version": "3.7.3"
  }
 },
 "nbformat": 4,
 "nbformat_minor": 4
}
