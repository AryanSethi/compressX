{
 "cells": [
  {
   "cell_type": "code",
   "execution_count": 1,
   "id": "eastern-worry",
   "metadata": {},
   "outputs": [
    {
     "name": "stdout",
     "output_type": "stream",
     "text": [
      "importing Jupyter notebook from model.ipynb\n"
     ]
    }
   ],
   "source": [
    "import import_ipynb\n",
    "from model import CompressX"
   ]
  },
  {
   "cell_type": "code",
   "execution_count": 2,
   "id": "invisible-iraqi",
   "metadata": {},
   "outputs": [],
   "source": [
    "inp1,inp2,inp3=CompressX.loadImageSet(0)"
   ]
  },
  {
   "cell_type": "code",
   "execution_count": 5,
   "id": "hydraulic-projection",
   "metadata": {},
   "outputs": [
    {
     "name": "stdout",
     "output_type": "stream",
     "text": [
      "[(1, 64, 64, 3), (1, 64, 64, 3), (1, 64, 64, 3), (1, 64, 64, 3), (1, 64, 64, 3), (1, 64, 64, 3), (1, 64, 64, 3), (1, 64, 64, 3), (1, 64, 64, 3), (1, 64, 64, 3), (1, 64, 64, 3), (1, 64, 64, 3), (1, 64, 64, 3), (1, 64, 64, 3), (1, 64, 64, 3), (1, 64, 64, 3), (1, 64, 64, 3), (1, 64, 64, 3), (1, 64, 64, 3), (1, 64, 64, 3), (1, 64, 64, 3), (1, 64, 64, 3), (1, 64, 64, 3), (1, 64, 64, 3), (1, 64, 64, 3), (1, 64, 64, 3), (1, 64, 64, 3), (1, 64, 64, 3), (1, 64, 64, 3), (1, 64, 64, 3), (1, 64, 64, 3), (1, 64, 64, 3)]\n"
     ]
    }
   ],
   "source": [
    "print([x.shape for x in inp3])"
   ]
  },
  {
   "cell_type": "code",
   "execution_count": null,
   "id": "synthetic-mason",
   "metadata": {},
   "outputs": [],
   "source": []
  }
 ],
 "metadata": {
  "kernelspec": {
   "display_name": "Python 3",
   "language": "python",
   "name": "python3"
  },
  "language_info": {
   "codemirror_mode": {
    "name": "ipython",
    "version": 3
   },
   "file_extension": ".py",
   "mimetype": "text/x-python",
   "name": "python",
   "nbconvert_exporter": "python",
   "pygments_lexer": "ipython3",
   "version": "3.7.3"
  }
 },
 "nbformat": 4,
 "nbformat_minor": 5
}
