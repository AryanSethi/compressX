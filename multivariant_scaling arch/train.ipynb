{
 "cells": [
  {
   "cell_type": "code",
   "execution_count": 1,
   "id": "handed-lying",
   "metadata": {},
   "outputs": [
    {
     "name": "stdout",
     "output_type": "stream",
     "text": [
      "importing Jupyter notebook from model.ipynb\n"
     ]
    }
   ],
   "source": [
    "import import_ipynb\n",
    "from model import CompressX\n",
    "from tensorflow import keras\n",
    "import pydot"
   ]
  },
  {
   "cell_type": "code",
   "execution_count": 2,
   "id": "powered-treasury",
   "metadata": {
    "scrolled": true
   },
   "outputs": [],
   "source": [
    "e1= CompressX.encoder1()\n",
    "e2= CompressX.encoder2()\n",
    "e3= CompressX.encoder3()\n",
    "d = CompressX.decoder()\n",
    "comp = CompressX.compositeModel(e1,e2,e3,d)"
   ]
  },
  {
   "cell_type": "code",
   "execution_count": 3,
   "id": "interesting-series",
   "metadata": {
    "scrolled": true
   },
   "outputs": [
    {
     "name": "stdout",
     "output_type": "stream",
     "text": [
      "Model: \"functional_1\"\n",
      "_________________________________________________________________\n",
      "Layer (type)                 Output Shape              Param #   \n",
      "=================================================================\n",
      "input_1 (InputLayer)         [(None, 256, 256, 3)]     0         \n",
      "_________________________________________________________________\n",
      "conv2d (Conv2D)              (None, 128, 128, 16)      448       \n",
      "_________________________________________________________________\n",
      "re_lu (ReLU)                 (None, 128, 128, 16)      0         \n",
      "_________________________________________________________________\n",
      "conv2d_1 (Conv2D)            (None, 64, 64, 32)        4640      \n",
      "_________________________________________________________________\n",
      "re_lu_1 (ReLU)               (None, 64, 64, 32)        0         \n",
      "_________________________________________________________________\n",
      "conv2d_2 (Conv2D)            (None, 32, 32, 64)        18496     \n",
      "_________________________________________________________________\n",
      "re_lu_2 (ReLU)               (None, 32, 32, 64)        0         \n",
      "_________________________________________________________________\n",
      "conv2d_3 (Conv2D)            (None, 16, 16, 128)       73856     \n",
      "_________________________________________________________________\n",
      "re_lu_3 (ReLU)               (None, 16, 16, 128)       0         \n",
      "=================================================================\n",
      "Total params: 97,440\n",
      "Trainable params: 97,440\n",
      "Non-trainable params: 0\n",
      "_________________________________________________________________\n",
      "None\n",
      "Model: \"functional_3\"\n",
      "_________________________________________________________________\n",
      "Layer (type)                 Output Shape              Param #   \n",
      "=================================================================\n",
      "input_2 (InputLayer)         [(None, 128, 128, 3)]     0         \n",
      "_________________________________________________________________\n",
      "conv2d_4 (Conv2D)            (None, 64, 64, 16)        448       \n",
      "_________________________________________________________________\n",
      "re_lu_4 (ReLU)               (None, 64, 64, 16)        0         \n",
      "_________________________________________________________________\n",
      "conv2d_5 (Conv2D)            (None, 32, 32, 32)        4640      \n",
      "_________________________________________________________________\n",
      "re_lu_5 (ReLU)               (None, 32, 32, 32)        0         \n",
      "_________________________________________________________________\n",
      "conv2d_6 (Conv2D)            (None, 16, 16, 64)        18496     \n",
      "_________________________________________________________________\n",
      "re_lu_6 (ReLU)               (None, 16, 16, 64)        0         \n",
      "=================================================================\n",
      "Total params: 23,584\n",
      "Trainable params: 23,584\n",
      "Non-trainable params: 0\n",
      "_________________________________________________________________\n",
      "None\n",
      "Model: \"functional_5\"\n",
      "_________________________________________________________________\n",
      "Layer (type)                 Output Shape              Param #   \n",
      "=================================================================\n",
      "input_3 (InputLayer)         [(None, 64, 64, 3)]       0         \n",
      "_________________________________________________________________\n",
      "conv2d_7 (Conv2D)            (None, 32, 32, 16)        448       \n",
      "_________________________________________________________________\n",
      "re_lu_7 (ReLU)               (None, 32, 32, 16)        0         \n",
      "_________________________________________________________________\n",
      "conv2d_8 (Conv2D)            (None, 16, 16, 32)        4640      \n",
      "_________________________________________________________________\n",
      "re_lu_8 (ReLU)               (None, 16, 16, 32)        0         \n",
      "=================================================================\n",
      "Total params: 5,088\n",
      "Trainable params: 5,088\n",
      "Non-trainable params: 0\n",
      "_________________________________________________________________\n",
      "None\n",
      "Model: \"functional_7\"\n",
      "_________________________________________________________________\n",
      "Layer (type)                 Output Shape              Param #   \n",
      "=================================================================\n",
      "input_4 (InputLayer)         [(None, 16, 16, 224)]     0         \n",
      "_________________________________________________________________\n",
      "conv2d_transpose (Conv2DTran (None, 32, 32, 128)       258176    \n",
      "_________________________________________________________________\n",
      "re_lu_9 (ReLU)               (None, 32, 32, 128)       0         \n",
      "_________________________________________________________________\n",
      "conv2d_transpose_1 (Conv2DTr (None, 64, 64, 64)        73792     \n",
      "_________________________________________________________________\n",
      "re_lu_10 (ReLU)              (None, 64, 64, 64)        0         \n",
      "_________________________________________________________________\n",
      "conv2d_transpose_2 (Conv2DTr (None, 128, 128, 32)      18464     \n",
      "_________________________________________________________________\n",
      "re_lu_11 (ReLU)              (None, 128, 128, 32)      0         \n",
      "_________________________________________________________________\n",
      "conv2d_transpose_3 (Conv2DTr (None, 256, 256, 3)       867       \n",
      "=================================================================\n",
      "Total params: 351,299\n",
      "Trainable params: 351,299\n",
      "Non-trainable params: 0\n",
      "_________________________________________________________________\n",
      "None\n",
      "Model: \"functional_9\"\n",
      "__________________________________________________________________________________________________\n",
      "Layer (type)                    Output Shape         Param #     Connected to                     \n",
      "==================================================================================================\n",
      "input_5 (InputLayer)            [(None, 256, 256, 3) 0                                            \n",
      "__________________________________________________________________________________________________\n",
      "input_6 (InputLayer)            [(None, 128, 128, 3) 0                                            \n",
      "__________________________________________________________________________________________________\n",
      "input_7 (InputLayer)            [(None, 64, 64, 3)]  0                                            \n",
      "__________________________________________________________________________________________________\n",
      "functional_1 (Functional)       (None, 16, 16, 128)  97440       input_5[0][0]                    \n",
      "__________________________________________________________________________________________________\n",
      "functional_3 (Functional)       (None, 16, 16, 64)   23584       input_6[0][0]                    \n",
      "__________________________________________________________________________________________________\n",
      "functional_5 (Functional)       (None, 16, 16, 32)   5088        input_7[0][0]                    \n",
      "__________________________________________________________________________________________________\n",
      "concatenate (Concatenate)       (None, 16, 16, 224)  0           functional_1[0][0]               \n",
      "                                                                 functional_3[0][0]               \n",
      "                                                                 functional_5[0][0]               \n",
      "__________________________________________________________________________________________________\n",
      "functional_7 (Functional)       (None, 256, 256, 3)  351299      concatenate[0][0]                \n",
      "==================================================================================================\n",
      "Total params: 477,411\n",
      "Trainable params: 477,411\n",
      "Non-trainable params: 0\n",
      "__________________________________________________________________________________________________\n",
      "None\n"
     ]
    }
   ],
   "source": [
    "print(e1.summary())\n",
    "print(e2.summary())\n",
    "print(e3.summary())\n",
    "print(d.summary())\n",
    "print(comp.summary())"
   ]
  },
  {
   "cell_type": "code",
   "execution_count": null,
   "id": "environmental-marking",
   "metadata": {},
   "outputs": [],
   "source": []
  },
  {
   "cell_type": "code",
   "execution_count": null,
   "id": "sweet-bryan",
   "metadata": {},
   "outputs": [],
   "source": []
  },
  {
   "cell_type": "code",
   "execution_count": 6,
   "id": "accomplished-importance",
   "metadata": {},
   "outputs": [
    {
     "name": "stdout",
     "output_type": "stream",
     "text": [
      "[INFO] Starting epoch 0 of 10\n",
      "Loss :0.019256403669714928\n",
      "[INFO] Ending Epoch 0 of 10\n",
      "\n",
      "[INFO] Starting epoch 1 of 10\n",
      "Loss :0.02073720097541809\n",
      "[INFO] Ending Epoch 1 of 10\n",
      "\n",
      "[INFO] Starting epoch 2 of 10\n",
      "Loss :0.019024167209863663\n",
      "[INFO] Ending Epoch 2 of 10\n",
      "\n",
      "[INFO] Starting epoch 3 of 10\n",
      "Loss :0.01808614283800125\n",
      "[INFO] Ending Epoch 3 of 10\n",
      "\n",
      "[INFO] Starting epoch 4 of 10\n",
      "Loss :0.018183685839176178\n",
      "[INFO] Ending Epoch 4 of 10\n",
      "\n",
      "[INFO] Starting epoch 5 of 10\n",
      "Loss :0.016179589554667473\n",
      "[INFO] Ending Epoch 5 of 10\n",
      "\n",
      "[INFO] Starting epoch 6 of 10\n",
      "Loss :0.016164114698767662\n",
      "[INFO] Ending Epoch 6 of 10\n",
      "\n",
      "[INFO] Starting epoch 7 of 10\n",
      "Loss :0.01802442967891693\n",
      "[INFO] Ending Epoch 7 of 10\n",
      "\n",
      "[INFO] Starting epoch 8 of 10\n",
      "Loss :0.018442124128341675\n",
      "[INFO] Ending Epoch 8 of 10\n",
      "\n",
      "[INFO] Starting epoch 9 of 10\n",
      "Loss :0.016139144077897072\n",
      "[INFO] Ending Epoch 9 of 10\n",
      "\n",
      "INFO:tensorflow:Assets written to: saved_models/epoch\\assets\n"
     ]
    }
   ],
   "source": [
    "CompressX.train(comp,10)"
   ]
  },
  {
   "cell_type": "code",
   "execution_count": 7,
   "id": "neutral-financing",
   "metadata": {},
   "outputs": [
    {
     "name": "stdout",
     "output_type": "stream",
     "text": [
      "INFO:tensorflow:Assets written to: saved_models/m1/e1\\assets\n",
      "INFO:tensorflow:Assets written to: saved_models/m1/e2\\assets\n",
      "INFO:tensorflow:Assets written to: saved_models/m1/e3\\assets\n",
      "INFO:tensorflow:Assets written to: saved_models/m1/d\\assets\n"
     ]
    }
   ],
   "source": [
    "e1.save(\"saved_models/m1/e1\")\n",
    "e2.save(\"saved_models/m1/e2\")\n",
    "e3.save(\"saved_models/m1/e3\")\n",
    "d.save(\"saved_models/m1/d\")"
   ]
  },
  {
   "cell_type": "code",
   "execution_count": null,
   "id": "small-crowd",
   "metadata": {},
   "outputs": [],
   "source": []
  }
 ],
 "metadata": {
  "kernelspec": {
   "display_name": "Python 3.7.3 ('base')",
   "language": "python",
   "name": "python3"
  },
  "language_info": {
   "codemirror_mode": {
    "name": "ipython",
    "version": 3
   },
   "file_extension": ".py",
   "mimetype": "text/x-python",
   "name": "python",
   "nbconvert_exporter": "python",
   "pygments_lexer": "ipython3",
   "version": "3.7.3"
  },
  "vscode": {
   "interpreter": {
    "hash": "875adbc83dd5984807aadc391d9417a8497023a2de37737aed0d1f6a8b86c3c4"
   }
  }
 },
 "nbformat": 4,
 "nbformat_minor": 5
}
