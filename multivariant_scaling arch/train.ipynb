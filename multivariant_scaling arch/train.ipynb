{
 "cells": [
  {
   "cell_type": "code",
   "execution_count": 1,
   "id": "handed-lying",
   "metadata": {},
   "outputs": [
    {
     "name": "stdout",
     "output_type": "stream",
     "text": [
      "importing Jupyter notebook from model.ipynb\n"
     ]
    }
   ],
   "source": [
    "import import_ipynb\n",
    "from model import CompressX\n",
    "from tensorflow import keras\n",
    "import pydot"
   ]
  },
  {
   "cell_type": "code",
   "execution_count": 2,
   "id": "powered-treasury",
   "metadata": {
    "scrolled": true
   },
   "outputs": [],
   "source": [
    "e1= CompressX.encoder1()\n",
    "e2= CompressX.encoder2()\n",
    "e3= CompressX.encoder3()\n",
    "d = CompressX.decoder()\n",
    "comp = CompressX.compositeModel(e1,e2,e3,d)"
   ]
  },
  {
   "cell_type": "code",
   "execution_count": 3,
   "id": "interesting-series",
   "metadata": {
    "scrolled": true
   },
   "outputs": [],
   "source": [
    "# print(e1.summary())\n",
    "# print(e2.summary())\n",
    "# print(e3.summary())\n",
    "# print(d.summary())\n",
    "# print(comp.summary())"
   ]
  },
  {
   "cell_type": "code",
   "execution_count": null,
   "id": "environmental-marking",
   "metadata": {},
   "outputs": [],
   "source": []
  },
  {
   "cell_type": "code",
   "execution_count": null,
   "id": "sweet-bryan",
   "metadata": {},
   "outputs": [],
   "source": []
  },
  {
   "cell_type": "code",
   "execution_count": 4,
   "id": "accomplished-importance",
   "metadata": {},
   "outputs": [
    {
     "name": "stdout",
     "output_type": "stream",
     "text": [
      "[INFO] Starting epoch 0 of 10\n",
      "Loss :0.2593233585357666\n",
      "[INFO] Ending Epoch 0 of 10\n",
      "\n",
      "[INFO] Starting epoch 1 of 10\n",
      "Loss :0.2545192241668701\n",
      "[INFO] Ending Epoch 1 of 10\n",
      "\n",
      "[INFO] Starting epoch 2 of 10\n",
      "Loss :0.25222229957580566\n",
      "[INFO] Ending Epoch 2 of 10\n",
      "\n",
      "[INFO] Starting epoch 3 of 10\n",
      "Loss :0.2512717843055725\n",
      "[INFO] Ending Epoch 3 of 10\n",
      "\n",
      "[INFO] Starting epoch 4 of 10\n",
      "Loss :0.2486642599105835\n",
      "[INFO] Ending Epoch 4 of 10\n",
      "\n",
      "[INFO] Starting epoch 5 of 10\n",
      "Loss :0.24993695318698883\n",
      "[INFO] Ending Epoch 5 of 10\n",
      "\n",
      "[INFO] Starting epoch 6 of 10\n"
     ]
    },
    {
     "ename": "KeyboardInterrupt",
     "evalue": "",
     "output_type": "error",
     "traceback": [
      "\u001b[1;31m---------------------------------------------------------------------------\u001b[0m",
      "\u001b[1;31mKeyboardInterrupt\u001b[0m                         Traceback (most recent call last)",
      "\u001b[1;32m<ipython-input-4-8e3d71b88913>\u001b[0m in \u001b[0;36m<module>\u001b[1;34m\u001b[0m\n\u001b[1;32m----> 1\u001b[1;33m \u001b[0mCompressX\u001b[0m\u001b[1;33m.\u001b[0m\u001b[0mtrain\u001b[0m\u001b[1;33m(\u001b[0m\u001b[0mcomp\u001b[0m\u001b[1;33m,\u001b[0m\u001b[1;36m10\u001b[0m\u001b[1;33m)\u001b[0m\u001b[1;33m\u001b[0m\u001b[1;33m\u001b[0m\u001b[0m\n\u001b[0m",
      "\u001b[1;32mD:\\work\\CompressX\\multivariant_scaling arch\\model.ipynb\u001b[0m in \u001b[0;36mtrain\u001b[1;34m(comp, EPOCHS, batch_size)\u001b[0m\n",
      "\u001b[1;32mD:\\work\\CompressX\\multivariant_scaling arch\\model.ipynb\u001b[0m in \u001b[0;36mpostprocess\u001b[1;34m(img)\u001b[0m\n",
      "\u001b[1;31mKeyboardInterrupt\u001b[0m: "
     ]
    }
   ],
   "source": [
    "CompressX.train(comp,10)"
   ]
  },
  {
   "cell_type": "code",
   "execution_count": null,
   "id": "neutral-financing",
   "metadata": {},
   "outputs": [],
   "source": []
  }
 ],
 "metadata": {
  "kernelspec": {
   "display_name": "Python 3",
   "language": "python",
   "name": "python3"
  },
  "language_info": {
   "codemirror_mode": {
    "name": "ipython",
    "version": 3
   },
   "file_extension": ".py",
   "mimetype": "text/x-python",
   "name": "python",
   "nbconvert_exporter": "python",
   "pygments_lexer": "ipython3",
   "version": "3.7.3"
  }
 },
 "nbformat": 4,
 "nbformat_minor": 5
}
