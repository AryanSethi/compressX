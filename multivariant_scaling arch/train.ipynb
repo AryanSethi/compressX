{
 "cells": [
  {
   "cell_type": "code",
   "execution_count": 1,
   "id": "handed-lying",
   "metadata": {},
   "outputs": [
    {
     "name": "stdout",
     "output_type": "stream",
     "text": [
      "importing Jupyter notebook from model.ipynb\n"
     ]
    }
   ],
   "source": [
    "import import_ipynb\n",
    "from model import CompressX\n",
    "from tensorflow import keras\n",
    "import pydot"
   ]
  },
  {
   "cell_type": "code",
   "execution_count": 2,
   "id": "powered-treasury",
   "metadata": {
    "scrolled": true
   },
   "outputs": [],
   "source": [
    "e1= CompressX.encoder1()\n",
    "e2= CompressX.encoder2()\n",
    "e3= CompressX.encoder3()\n",
    "d = CompressX.decoder()\n",
    "comp = CompressX.compositeModel(e1,e2,e3,d)"
   ]
  },
  {
   "cell_type": "code",
   "execution_count": 3,
   "id": "interesting-series",
   "metadata": {
    "scrolled": true
   },
   "outputs": [],
   "source": [
    "# print(e1.summary())\n",
    "# print(e2.summary())\n",
    "# print(e3.summary())\n",
    "# print(d.summary())\n",
    "# print(comp.summary())"
   ]
  },
  {
   "cell_type": "code",
   "execution_count": null,
   "id": "environmental-marking",
   "metadata": {},
   "outputs": [],
   "source": []
  },
  {
   "cell_type": "code",
   "execution_count": null,
   "id": "sweet-bryan",
   "metadata": {},
   "outputs": [],
   "source": []
  },
  {
   "cell_type": "code",
   "execution_count": 6,
   "id": "accomplished-importance",
   "metadata": {},
   "outputs": [
    {
     "name": "stdout",
     "output_type": "stream",
     "text": [
      "[INFO] Starting epoch 0 of 10\n",
      "Loss :0.019256403669714928\n",
      "[INFO] Ending Epoch 0 of 10\n",
      "\n",
      "[INFO] Starting epoch 1 of 10\n",
      "Loss :0.02073720097541809\n",
      "[INFO] Ending Epoch 1 of 10\n",
      "\n",
      "[INFO] Starting epoch 2 of 10\n",
      "Loss :0.019024167209863663\n",
      "[INFO] Ending Epoch 2 of 10\n",
      "\n",
      "[INFO] Starting epoch 3 of 10\n",
      "Loss :0.01808614283800125\n",
      "[INFO] Ending Epoch 3 of 10\n",
      "\n",
      "[INFO] Starting epoch 4 of 10\n",
      "Loss :0.018183685839176178\n",
      "[INFO] Ending Epoch 4 of 10\n",
      "\n",
      "[INFO] Starting epoch 5 of 10\n",
      "Loss :0.016179589554667473\n",
      "[INFO] Ending Epoch 5 of 10\n",
      "\n",
      "[INFO] Starting epoch 6 of 10\n",
      "Loss :0.016164114698767662\n",
      "[INFO] Ending Epoch 6 of 10\n",
      "\n",
      "[INFO] Starting epoch 7 of 10\n",
      "Loss :0.01802442967891693\n",
      "[INFO] Ending Epoch 7 of 10\n",
      "\n",
      "[INFO] Starting epoch 8 of 10\n",
      "Loss :0.018442124128341675\n",
      "[INFO] Ending Epoch 8 of 10\n",
      "\n",
      "[INFO] Starting epoch 9 of 10\n",
      "Loss :0.016139144077897072\n",
      "[INFO] Ending Epoch 9 of 10\n",
      "\n",
      "INFO:tensorflow:Assets written to: saved_models/epoch\\assets\n"
     ]
    }
   ],
   "source": [
    "CompressX.train(comp,10)"
   ]
  },
  {
   "cell_type": "code",
   "execution_count": 7,
   "id": "neutral-financing",
   "metadata": {},
   "outputs": [
    {
     "name": "stdout",
     "output_type": "stream",
     "text": [
      "INFO:tensorflow:Assets written to: saved_models/m1/e1\\assets\n",
      "INFO:tensorflow:Assets written to: saved_models/m1/e2\\assets\n",
      "INFO:tensorflow:Assets written to: saved_models/m1/e3\\assets\n",
      "INFO:tensorflow:Assets written to: saved_models/m1/d\\assets\n"
     ]
    }
   ],
   "source": [
    "e1.save(\"saved_models/m1/e1\")\n",
    "e2.save(\"saved_models/m1/e2\")\n",
    "e3.save(\"saved_models/m1/e3\")\n",
    "d.save(\"saved_models/m1/d\")"
   ]
  },
  {
   "cell_type": "code",
   "execution_count": null,
   "id": "small-crowd",
   "metadata": {},
   "outputs": [],
   "source": []
  }
 ],
 "metadata": {
  "kernelspec": {
   "display_name": "Python 3",
   "language": "python",
   "name": "python3"
  },
  "language_info": {
   "codemirror_mode": {
    "name": "ipython",
    "version": 3
   },
   "file_extension": ".py",
   "mimetype": "text/x-python",
   "name": "python",
   "nbconvert_exporter": "python",
   "pygments_lexer": "ipython3",
   "version": "3.7.3"
  }
 },
 "nbformat": 4,
 "nbformat_minor": 5
}
